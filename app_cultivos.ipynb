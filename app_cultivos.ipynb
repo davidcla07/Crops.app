{
 "cells": [
  {
   "cell_type": "markdown",
   "id": "d24ee28c",
   "metadata": {},
   "source": [
    "# Take Care My Plants.   \n",
    "\n",
    "<br>\n",
    "<br>\n",
    "<center>\n",
    "    <img src=\"https://cdn.bioguia.com/embed/45e8324a2a899a9b3197bcb4c45a2b089b1569945183/aprovechar-combinacion-plantas-huerta.jpg?imagick=1&size=1200\" width=\"400\" alt=\"plant.logo\"  />\n",
    "</center>\n",
    "<br>\n",
    "\n",
    "<div style=\"text-align: right\"> <b>Creado por :</b> </div>  \n",
    "<div style=\"text-align: right\"> <b>David Clavijo</b> </div>\n",
    "\n",
    "  \n",
    "En ete notebook, compartimos nuestra app llamada \"Take Care my Plants\", con la cual se prodrá gestionar cultivos en una huerta.\n",
    "\n",
    "Los datos que son manejados por la aplicación para la gestión de los cultivos son:\n",
    "\n",
    "•\tNombre del cultivo  \n",
    "•\tDías y Horario de Mantenimiento (Ej. Lunes, Jueves 4:00 pm).  \n",
    "•\tDías y Horario de Regado (Ej. Lunes, Jueves 4:00 pm).  \n",
    "•\tDías y Horario de Abono (Ej. Lunes, Jueves 4:00 pm).  \n",
    "•\tVariables para cada ETAPA del Cultivo y sus intervalos (Ej. Etapa 1 – Fase Vegetativa, 5 a 30 días).  \n"
   ]
  },
  {
   "cell_type": "markdown",
   "id": "7b1f94b3",
   "metadata": {},
   "source": [
    "## Creación de Base Datos.\n",
    "\n",
    "En este paso, primero se solicita al usuario los datos necesarios para crear la base de datos, se puede construir la base de datos ingresando registro por registro o cargando un archivo completo con la información. En esta etapa se darán las dos opciones.\n",
    "  \n",
    "El siguiente codigo le permite al usuario escoger la forma de suministrar los datos:"
   ]
  },
  {
   "cell_type": "markdown",
   "id": "7ab44ee8",
   "metadata": {},
   "source": [
    "Primero, creamos las funciones para adicionar valores para cada tipo de dato:  \n",
    "  \n",
    "-La función **nombre_cultivo** le permite al usuario ingresar el nombre de cada cultivo. Dentro de la función se solicita confirmar el nombre para evitar errores en el diligenciamiento de la información.  \n",
    "  \n",
    "-La función **ingresar_dia** le permite al usuario ingresar los dias de mantenimiento, regado y abono. Se solicita por codigo para evitar errores en el diligenciamiento de la información.  \n",
    "  \n",
    "-La función **ingresar_hora**  le permite al usuario ingresar las horas de mantenimiento, regado y abono. Se solicita por codigo para evitar errores en el diligenciamiento de la información.  \n",
    "  \n",
    "-La función **ingresar_etapa** le permite al usuario ingresar cada tipo de etapa. Se solicita por codigo para evitar errores en el diligenciamiento de la información.  \n",
    "  \n",
    "-La función **dias_etapa** le permite al usuario ingresar los dias que dura la etapa. Se solicita por codigo para evitar errores en el diligenciamiento de la información. "
   ]
  },
  {
   "cell_type": "code",
   "execution_count": 1,
   "id": "2c56b596",
   "metadata": {},
   "outputs": [],
   "source": [
    "def nombre_cultivo():\n",
    "    while True:\n",
    "        nombre = input(\"\\nIngrese el nombre del cultivo:\\n\")\n",
    "        confirmar = input(\"¿Es correcto el nombre? S/N\\n\")\n",
    "        if confirmar == \"S\":\n",
    "            nombre = nombre\n",
    "            break\n",
    "        elif confirmar == \"N\":\n",
    "            print(\"Ingrese nuevo valor\")\n",
    "        elif (confirmar != \"S\") and (confirmar != \"N\"):\n",
    "            print(\"Por favor, escriba nuevamente el valor y confirme\")\n",
    "    return nombre\n",
    "\n",
    "\n",
    "def ingresar_dia():\n",
    "    while True:\n",
    "        print(\"\\nIngrese los días de la siguiente forma:\\nLunes = 1\\nMartes = 2\\nMiercoles = 3\"\\\n",
    "          \"\\nJueves = 4\\nViernes = 5\\nSábado = 6\\nDomingo = 7\\n\")\n",
    "        dia = input(\"Ingrese el código del día:\\n\")\n",
    "        if dia == \"1\":\n",
    "            dia = \"Lunes\"\n",
    "            break\n",
    "        elif dia == \"2\":\n",
    "            dia = \"Martes\"\n",
    "            break\n",
    "        elif dia == \"3\":\n",
    "            dia = \"Miercoles\"\n",
    "            break\n",
    "        elif dia == \"4\":\n",
    "            dia = \"Jueves\"\n",
    "            break\n",
    "        elif dia == \"5\":\n",
    "            dia = \"Viernes\"\n",
    "            break\n",
    "        elif dia == \"6\":\n",
    "            dia = \"Sabado\"\n",
    "            break\n",
    "        elif dia == \"7\":\n",
    "            dia = \"Domingo\"\n",
    "            break\n",
    "        else:\n",
    "            print(\"Ingrese un valor válido\")\n",
    "    return dia\n",
    "    \n",
    "\n",
    "def ingresar_hora():\n",
    "    while True:\n",
    "        print(\"\\nIngrese las horas en el formato: HH:MM de 00:00 a 24:00\")\n",
    "        hora = input(\"Ingrese la hora:\\n\")\n",
    "        if (len(hora) != 5)|(hora[2] != \":\"):\n",
    "            print(\"Ingrese un valor válido\")\n",
    "        elif (int(hora[0:2]) > 24)|(int(hora[3:]) > 59):\n",
    "            print(\"Ingrese un valor válido\")\n",
    "        else:\n",
    "            break\n",
    "    return hora\n",
    "    \n",
    "\n",
    "def ingresar_etapa():\n",
    "    while True:\n",
    "        print(\"\\nIngrese los numeros para las etapas del cultivo conforme al listado:\\n\"\\\n",
    "          \"Germinación = 1\\nRápido Crecimiento = 2\\n\"\\\n",
    "          \"Maduración = 3\\nCosecha = 4\")\n",
    "        etapa = input(\"Ingrese el código de la etapa del cultivo:\\n\")\n",
    "        if etapa == \"1\":\n",
    "            etapa = \"Germinacion\"\n",
    "        elif etapa == \"2\":\n",
    "            etapa = \"Rapido Crecimiento\"\n",
    "            break\n",
    "        elif etapa == \"3\":\n",
    "            etapa = \"Maduracion\"\n",
    "            break\n",
    "        elif etapa == \"4\":\n",
    "            etapa = \"Cosecha\"\n",
    "            break\n",
    "        else:\n",
    "            print(\"Ingrese un valor válido\")\n",
    "    return etapa\n",
    "\n",
    "              \n",
    "def dias_etapa():\n",
    "    while True:\n",
    "        dias = input(\"\\nIngrese el número de días de la etapa:\\n\")\n",
    "        confirmar = input(\"¿Es correcto el valor? S/N:\\n\")\n",
    "        if confirmar == \"S\":\n",
    "            dias = dias\n",
    "            break\n",
    "        elif confirmar == \"N\":\n",
    "            print(\"Ingrese nuevo valor\")\n",
    "        elif (confirmar != \"S\") and (confirmar != \"N\"):\n",
    "            print(\"Por favor, escriba nuevamente el valor y confirme\")\n",
    "    return dias"
   ]
  },
  {
   "cell_type": "markdown",
   "id": "9a56eb26",
   "metadata": {},
   "source": [
    "Con la siguiente función se ingresan los datos manualmente y se almacenan en un diccionario de datos:  \n",
    "  \n",
    "La función **ingresar_datos_manual** llama a las funciones creadas en el paso anterior, y le permite al usuario ingresar los datos indefinidamente hasta que el usuario decida terminar el registro de la información.\n",
    "  \n",
    "Se utiliza la función **defaultdict** de python para crear un diccionario de datos cuya clave sea el item a ingresar y el valor sea una lista de de los registros que el usuario ingresa.  \n",
    "  \n",
    "Al final la función devuelve un diccionario con los datos ingresados por el usuario."
   ]
  },
  {
   "cell_type": "code",
   "execution_count": 2,
   "id": "67573e6a",
   "metadata": {},
   "outputs": [],
   "source": [
    "from collections import defaultdict\n",
    "# defaultdict es utilizado para crear un diccionario con listas y poder añadir valores como una lista\n",
    "def ingresar_datos_manual():\n",
    "    dict_datos = defaultdict(list)\n",
    "    while True:\n",
    "        registro = input(\"\\nIngrese 1 para adicionar registro 2 para terminar:\\n\")\n",
    "        if registro ==\"1\":\n",
    "            cultivo = nombre_cultivo()\n",
    "            print(\"Ingrese Día de Mantenimiento\")\n",
    "            dia_mant = ingresar_dia()\n",
    "            print(\"Ingrese hora de Mantenimiento\")\n",
    "            hora_mant = ingresar_hora()\n",
    "            print(\"Ingrese Día de Regado\")\n",
    "            dia_regado = ingresar_dia()\n",
    "            print(\"Ingrese hora de Regado\")\n",
    "            hora_regado = ingresar_hora()\n",
    "            print(\"Ingrese Día de Abono\")\n",
    "            dia_abono = ingresar_dia()\n",
    "            print(\"Ingrese hora de Abono\")\n",
    "            hora_abono = ingresar_hora()\n",
    "            \n",
    "            dict_datos[\"Nombre del Cultivo\"].append(cultivo)\n",
    "            dict_datos[\"Dia de Mantenimiento\"].append(dia_mant)\n",
    "            dict_datos[\"Hora de Mantenimiento\"].append(hora_mant)\n",
    "            dict_datos[\"Dia de Regado\"].append(dia_regado)\n",
    "            dict_datos[\"Hora de Regado\"].append(hora_regado)\n",
    "            dict_datos[\"Dia de Abono\"].append(dia_abono)\n",
    "            dict_datos[\"Hora de Abono\"].append(hora_abono)\n",
    "            \n",
    "            print(\"Ingrese Etapa 1\")\n",
    "            etapa = ingresar_etapa()\n",
    "            print(\"Ingrese Días de Etapa 1\")\n",
    "            dias_etapas = dias_etapa()\n",
    "            dict_datos[\"Etapa 1\"].append(etapa)\n",
    "            dict_datos[\"Dias de Etapa 1\"].append(dias_etapas)\n",
    "            \n",
    "            print(\"Ingrese Etapa 2\")\n",
    "            etapa = ingresar_etapa()\n",
    "            print(\"Ingrese Dias de Etapa 2\")\n",
    "            dias_etapas = dias_etapa()\n",
    "            dict_datos[\"Etapa 2\"].append(etapa)\n",
    "            dict_datos[\"Dias de Etapa 2\"].append(dias_etapas)\n",
    "            \n",
    "            print(\"Ingrese Etapa 3\")\n",
    "            etapa = ingresar_etapa()\n",
    "            print(\"Ingrese Dias de Etapa 3\")\n",
    "            dias_etapas = dias_etapa()\n",
    "            dict_datos[\"Etapa 3\"].append(etapa)\n",
    "            dict_datos[\"Dias de Etapa 3\"].append(dias_etapas)\n",
    "            \n",
    "            print(\"Ingrese Etapa 4\")\n",
    "            etapa = ingresar_etapa()\n",
    "            print(\"Ingrese Dias de Etapa 4\")\n",
    "            dias_etapas = dias_etapa()\n",
    "            dict_datos[\"Etapa 4\"].append(etapa)\n",
    "            dict_datos[\"Dias de Etapa 4\"].append(dias_etapas)\n",
    "            \n",
    "        elif registro == \"2\":\n",
    "            break\n",
    "        else:\n",
    "            print(\"Ingrese opción válida\")\n",
    "        \n",
    "    return dict_datos"
   ]
  },
  {
   "cell_type": "markdown",
   "id": "7d9776f7",
   "metadata": {},
   "source": [
    "Ahora creamos la función que permita seleccionar el método de ingreso de los datos y cargar los datos.  \n",
    "Para ingresar los datos desde un archivo se habilita al usuario la opción de cargar un archivo .csv, siendo un formato común para archivos que tienen registros ordendos en forma de tabla. El archivo csv se convierte dentro de la función en un **DataFrame**, que es un formato de la libreria **Pandas** para almacenar y manipular datos en forma de tablas. Se utiliza este tipo de formato ya que es más simple la lectura y conversión del archivo csv y su indexación se realiza del mismo que en el diccionario, lo que facilita el posterior uso de una sola función para la manipulación de los datos en la aplicación."
   ]
  },
  {
   "cell_type": "code",
   "execution_count": 3,
   "id": "0c7239ba",
   "metadata": {},
   "outputs": [],
   "source": [
    "import pandas as pd\n",
    "def crear_dataset():\n",
    "    metodo = input(\"\\nIngrese 1 para adicionar datos manualmente, 2 para cargar archivo .csv\\n\")\n",
    "    if metodo == \"1\":\n",
    "        dataset = ingresar_datos_manual()\n",
    "    elif metodo == \"2\":\n",
    "        file = input(\"ingrese nombre archivo csv, tener en cuenta la ruta y extensión del archivo○\\n\")\n",
    "        dataset = pd.read_csv(file)\n",
    "    return dataset"
   ]
  },
  {
   "cell_type": "markdown",
   "id": "e6d20f01",
   "metadata": {},
   "source": [
    "En el siguiente paso se cargan los datos del archivo .csv, para posteriormente mostrar los siguientes pasos de consulta. Si el usuario lo desea puede crear la base de datos con el método manual (pruebalo!!). Ambos métodos funcionan con el resto de la aplicación."
   ]
  },
  {
   "cell_type": "code",
   "execution_count": 4,
   "id": "6a33d85d",
   "metadata": {},
   "outputs": [
    {
     "name": "stdin",
     "output_type": "stream",
     "text": [
      "\n",
      "Ingrese 1 para adicionar datos manualmente, 2 para cargar archivo .csv\n",
      " 2\n",
      "ingrese nombre archivo csv, tener en cuenta la ruta y extensión del archivo○\n",
      " datos.csv\n"
     ]
    }
   ],
   "source": [
    "dataset = crear_dataset()"
   ]
  },
  {
   "cell_type": "code",
   "execution_count": 5,
   "id": "4530da44",
   "metadata": {},
   "outputs": [
    {
     "data": {
      "text/html": [
       "<div>\n",
       "<style scoped>\n",
       "    .dataframe tbody tr th:only-of-type {\n",
       "        vertical-align: middle;\n",
       "    }\n",
       "\n",
       "    .dataframe tbody tr th {\n",
       "        vertical-align: top;\n",
       "    }\n",
       "\n",
       "    .dataframe thead th {\n",
       "        text-align: right;\n",
       "    }\n",
       "</style>\n",
       "<table border=\"1\" class=\"dataframe\">\n",
       "  <thead>\n",
       "    <tr style=\"text-align: right;\">\n",
       "      <th></th>\n",
       "      <th>Nombre del Cultivo</th>\n",
       "      <th>Dia de Mantenimiento</th>\n",
       "      <th>Hora de Mantenimiento</th>\n",
       "      <th>Dia de Regado</th>\n",
       "      <th>Hora de Regado</th>\n",
       "      <th>Dia de Abono</th>\n",
       "      <th>Hora de Abono</th>\n",
       "      <th>Etapa 1</th>\n",
       "      <th>Dias de Etapa 1</th>\n",
       "      <th>Etapa 2</th>\n",
       "      <th>Dias de Etapa 2</th>\n",
       "      <th>Etapa 3</th>\n",
       "      <th>Dias de Etapa 3</th>\n",
       "      <th>Etapa 4</th>\n",
       "      <th>Dias de Etapa 4</th>\n",
       "    </tr>\n",
       "  </thead>\n",
       "  <tbody>\n",
       "    <tr>\n",
       "      <th>0</th>\n",
       "      <td>Yuca</td>\n",
       "      <td>Lunes</td>\n",
       "      <td>11:34</td>\n",
       "      <td>Martes</td>\n",
       "      <td>20:23</td>\n",
       "      <td>Jueves</td>\n",
       "      <td>12:44</td>\n",
       "      <td>Germinacion</td>\n",
       "      <td>20</td>\n",
       "      <td>Rapido Crecimiento</td>\n",
       "      <td>35</td>\n",
       "      <td>Maduracion</td>\n",
       "      <td>120</td>\n",
       "      <td>Cosecha</td>\n",
       "      <td>15</td>\n",
       "    </tr>\n",
       "    <tr>\n",
       "      <th>1</th>\n",
       "      <td>Papa</td>\n",
       "      <td>Miercoles</td>\n",
       "      <td>12:56</td>\n",
       "      <td>Domingo</td>\n",
       "      <td>18:45</td>\n",
       "      <td>Martes</td>\n",
       "      <td>22:53</td>\n",
       "      <td>Germinacion</td>\n",
       "      <td>15</td>\n",
       "      <td>Rapido Crecimiento</td>\n",
       "      <td>45</td>\n",
       "      <td>Maduracion</td>\n",
       "      <td>118</td>\n",
       "      <td>Cosecha</td>\n",
       "      <td>12</td>\n",
       "    </tr>\n",
       "    <tr>\n",
       "      <th>2</th>\n",
       "      <td>Platano</td>\n",
       "      <td>Jueves</td>\n",
       "      <td>09:34</td>\n",
       "      <td>Lunes</td>\n",
       "      <td>06:45</td>\n",
       "      <td>Domingo</td>\n",
       "      <td>08:32</td>\n",
       "      <td>Germinacion</td>\n",
       "      <td>12</td>\n",
       "      <td>Rapido Crecimiento</td>\n",
       "      <td>42</td>\n",
       "      <td>Maduracion</td>\n",
       "      <td>135</td>\n",
       "      <td>Cosecha</td>\n",
       "      <td>17</td>\n",
       "    </tr>\n",
       "    <tr>\n",
       "      <th>3</th>\n",
       "      <td>Naranja</td>\n",
       "      <td>Sabado</td>\n",
       "      <td>08:35</td>\n",
       "      <td>Miercoles</td>\n",
       "      <td>5:23</td>\n",
       "      <td>Lunes</td>\n",
       "      <td>11:34</td>\n",
       "      <td>Germinacion</td>\n",
       "      <td>18</td>\n",
       "      <td>Rapido Crecimiento</td>\n",
       "      <td>38</td>\n",
       "      <td>Maduracion</td>\n",
       "      <td>123</td>\n",
       "      <td>Cosecha</td>\n",
       "      <td>20</td>\n",
       "    </tr>\n",
       "    <tr>\n",
       "      <th>4</th>\n",
       "      <td>Guayaba</td>\n",
       "      <td>Martes</td>\n",
       "      <td>15:23</td>\n",
       "      <td>Miercoles</td>\n",
       "      <td>13:42</td>\n",
       "      <td>Lunes</td>\n",
       "      <td>10:10</td>\n",
       "      <td>Germinacion</td>\n",
       "      <td>17</td>\n",
       "      <td>Rapido Crecimiento</td>\n",
       "      <td>28</td>\n",
       "      <td>Maduracion</td>\n",
       "      <td>124</td>\n",
       "      <td>Cosecha</td>\n",
       "      <td>20</td>\n",
       "    </tr>\n",
       "    <tr>\n",
       "      <th>5</th>\n",
       "      <td>Mango</td>\n",
       "      <td>Domingo</td>\n",
       "      <td>10:32</td>\n",
       "      <td>Jueves</td>\n",
       "      <td>04:13</td>\n",
       "      <td>Sabado</td>\n",
       "      <td>11:32</td>\n",
       "      <td>Germinacion</td>\n",
       "      <td>20</td>\n",
       "      <td>Rapido Crecimiento</td>\n",
       "      <td>34</td>\n",
       "      <td>Maduracion</td>\n",
       "      <td>111</td>\n",
       "      <td>Cosecha</td>\n",
       "      <td>12</td>\n",
       "    </tr>\n",
       "    <tr>\n",
       "      <th>6</th>\n",
       "      <td>Papaya</td>\n",
       "      <td>Viernes</td>\n",
       "      <td>11:23</td>\n",
       "      <td>Martes</td>\n",
       "      <td>15:33</td>\n",
       "      <td>Viernes</td>\n",
       "      <td>05:32</td>\n",
       "      <td>Germinacion</td>\n",
       "      <td>25</td>\n",
       "      <td>Rapido Crecimiento</td>\n",
       "      <td>37</td>\n",
       "      <td>Maduracion</td>\n",
       "      <td>101</td>\n",
       "      <td>Cosecha</td>\n",
       "      <td>11</td>\n",
       "    </tr>\n",
       "    <tr>\n",
       "      <th>7</th>\n",
       "      <td>Arroz</td>\n",
       "      <td>Viernes</td>\n",
       "      <td>11:23</td>\n",
       "      <td>Martes</td>\n",
       "      <td>15:33</td>\n",
       "      <td>Viernes</td>\n",
       "      <td>05:32</td>\n",
       "      <td>Germinacion</td>\n",
       "      <td>25</td>\n",
       "      <td>Rapido Crecimiento</td>\n",
       "      <td>37</td>\n",
       "      <td>Maduracion</td>\n",
       "      <td>101</td>\n",
       "      <td>Cosecha</td>\n",
       "      <td>150</td>\n",
       "    </tr>\n",
       "  </tbody>\n",
       "</table>\n",
       "</div>"
      ],
      "text/plain": [
       "  Nombre del Cultivo Dia de Mantenimiento  ...  Etapa 4 Dias de Etapa 4\n",
       "0               Yuca                Lunes  ...  Cosecha              15\n",
       "1               Papa            Miercoles  ...  Cosecha              12\n",
       "2            Platano               Jueves  ...  Cosecha              17\n",
       "3            Naranja               Sabado  ...  Cosecha              20\n",
       "4            Guayaba               Martes  ...  Cosecha              20\n",
       "5              Mango              Domingo  ...  Cosecha              12\n",
       "6             Papaya              Viernes  ...  Cosecha              11\n",
       "7              Arroz              Viernes  ...  Cosecha             150\n",
       "\n",
       "[8 rows x 15 columns]"
      ]
     },
     "execution_count": 5,
     "metadata": {},
     "output_type": "execute_result"
    }
   ],
   "source": [
    "dataset"
   ]
  },
  {
   "cell_type": "markdown",
   "id": "ec4baa98",
   "metadata": {},
   "source": [
    "La aplicación requiere que se realicen diferentes tipos de consulta, por lo cúal primero se crean las funciones que realizan cada consulta para intregrarlas dentro de la función final que ejecutará la aplicación y permitirá realizar todas las consultas.\n",
    "  \n",
    "La función **gestion_cultivo** es el módulo en el cúal el usuario puede consultar los dias y horarios de la gestión del cultivo que desee visualizar. La función le permite al usuario seleccionar el cultivo a consultar y devuelve la información de gestión de su cultivo.\n",
    "  \n",
    "La función **consulta_etapa** funciona de manera similar a la función **gestion_cultivo**, devolviendo la información de las etapas del cultivo escogido. \n",
    "  \n",
    "Ambas funciones le permiten realizar el número de consultas que deseen, hasta que decida salir de su consulta."
   ]
  },
  {
   "cell_type": "code",
   "execution_count": 6,
   "id": "62991f91",
   "metadata": {},
   "outputs": [],
   "source": [
    "def gestion_cultivo(dataset):\n",
    "    print(\"\\nSus cultivos son:\")\n",
    "    cont=0\n",
    "    for cultivo in dataset[\"Nombre del Cultivo\"]:\n",
    "        cont+=1\n",
    "        print(cont,\":\",cultivo)        \n",
    "    while True:\n",
    "        consultar = input(\"Ingrese 1 para realizar consulta 2 para regresar al menú\\n\")\n",
    "        if consultar == \"1\":\n",
    "            try:\n",
    "                sel_cultivo = input(\"Ingrese número del cultivo a consultar:\\n\")\n",
    "                indice = int(sel_cultivo)-1\n",
    "                print(\"Dia de Mantenimiento:\", dataset[\"Dia de Mantenimiento\"][indice])\n",
    "                print(\"Hora de Mantenimiento:\", dataset[\"Hora de Mantenimiento\"][indice])\n",
    "                print(\"Dia de Regado:\", dataset[\"Dia de Regado\"][indice])\n",
    "                print(\"Hora de Regado:\", dataset[\"Hora de Regado\"][indice])\n",
    "                print(\"Dia de Abono:\", dataset[\"Dia de Abono\"][indice])\n",
    "                print(\"Hora de Abono:\", dataset[\"Hora de Abono\"][indice])                \n",
    "            except:\n",
    "                print(\"Ingrese una opción válida\")\n",
    "        elif consultar == \"2\":\n",
    "            break              \n",
    "        else:\n",
    "            print(\"Ingrese una opción válida\")\n",
    "\n",
    "\n",
    "def consulta_etapa(dataset):\n",
    "    print(\"\\nSus cultivos son:\")\n",
    "    cont=0\n",
    "    for cultivo in dataset[\"Nombre del Cultivo\"]:\n",
    "        cont+=1\n",
    "        print(cont,\":\",cultivo)        \n",
    "    while True:\n",
    "        consultar = input(\"Ingrese 1 para realizar consulta 2 para regresar al menú\\n\")\n",
    "        if consultar == \"1\":\n",
    "            try:\n",
    "                sel_cultivo = input(\"Ingrese número del cultivo a consultar:\\n\")\n",
    "                indice = int(sel_cultivo)-1\n",
    "                print(\"Etapa 1:\", dataset[\"Etapa 1\"][indice])\n",
    "                print(\"Días de Etapa 1:\", dataset[\"Dias de Etapa 1\"][indice])\n",
    "                print(\"Etapa 2:\", dataset[\"Etapa 2\"][indice])\n",
    "                print(\"Días de Etapa 2:\", dataset[\"Dias de Etapa 2\"][indice])\n",
    "                print(\"Etapa 3:\", dataset[\"Etapa 3\"][indice])\n",
    "                print(\"Días de Etapa 3:\", dataset[\"Dias de Etapa 3\"][indice])\n",
    "                print(\"Etapa 4:\", dataset[\"Etapa 4\"][indice])\n",
    "                print(\"Días de Etapa 4:\", dataset[\"Dias de Etapa 4\"][indice])\n",
    "            except:\n",
    "                print(\"Ingrese una opción válida\")\n",
    "        elif consultar == \"2\":\n",
    "            break              \n",
    "        else:\n",
    "            print(\"Ingrese una opción válida\") "
   ]
  },
  {
   "cell_type": "markdown",
   "id": "0eb1feb7",
   "metadata": {},
   "source": [
    "La función de consulta de información contable se crea en el siguiente codigo.  \n",
    "  \n",
    "Para el manejo de la información contable se crea la función **informacion_contable**, que a su vez llama a las funciones **gastos**, **costos**, y **producción**. Estas tres funciones le solicitan al usuario la información contable del cultivo que desea calcular y devuelven estos valores númericos para usar en la función **informacion_contable**. Esta última le solicita al usuario ingresar la información contable mes a mes, y almacena los datos dentro de listas, para posteriormente calcular y presentar el **Informe Ecónomico**."
   ]
  },
  {
   "cell_type": "code",
   "execution_count": 7,
   "id": "d36941f5",
   "metadata": {},
   "outputs": [],
   "source": [
    "def gastos():\n",
    "    while True:\n",
    "        valor_med = input(\"\\nIngrese los costos de los medicamentos:\\n\")\n",
    "        imprevistos = input(\"Ingrese los costos de los imprevistos:\\n\")\n",
    "        try:\n",
    "            int(valor_med)\n",
    "            int(imprevistos)\n",
    "            break\n",
    "        except:\n",
    "            print(\"Ingrese valores númericos\")\n",
    "    return int(valor_med), int(imprevistos)\n",
    "\n",
    "\n",
    "\n",
    "def costos():\n",
    "    while True:\n",
    "        valor_mo = input(\"\\nIngrese los costos de mano de obra:\\n\")\n",
    "        abonos = input(\"Ingrese los costos de los abonos:\\n\")\n",
    "        agua = input(\"Ingrese los costos de riego:\\n\")\n",
    "        mantenimiento = input(\"Ingrese los costos de mantenimiento:\\n\")\n",
    "        try:\n",
    "            int(valor_mo)\n",
    "            int(abonos)\n",
    "            int(agua)\n",
    "            int(mantenimiento)\n",
    "            break\n",
    "        except:\n",
    "            print(\"Ingrese valores númericos\")\n",
    "    return int(valor_mo), int(abonos), int(agua), int(mantenimiento)\n",
    "\n",
    "\n",
    "\n",
    "def produccion():\n",
    "    while True:\n",
    "        valor_arroba = input(\"\\nIngrese el valor por arroba:\\n\")\n",
    "        cantidad = input(\"Ingrese la cantidad de kilos recolectados:\\n\")\n",
    "\n",
    "        try:\n",
    "            valor_prod = float(valor_arroba)/12.5*float(cantidad)\n",
    "            break\n",
    "        except:\n",
    "            print(\"Ingrese valores númericos\")\n",
    "    return valor_prod\n",
    "\n",
    "\n",
    "\n",
    "def informacion_contable():\n",
    "    print(\"\\n\\nHola, en este módulo puedes ingresar la información\"\\\n",
    "          \" contable para tú cultivo por cada mes.\")\n",
    "    while True:\n",
    "        meses = input (\"\\nIngresa el número de meses a diligenciar:\\n\")\n",
    "        try:\n",
    "            meses = int(meses)\n",
    "            break\n",
    "        except:\n",
    "            print(\"Ingresa un valor númerico\")\n",
    "        \n",
    "    list_med = []\n",
    "    list_imprev = []          \n",
    "    for mes in range(meses):\n",
    "        print(\"\\nIngrese los gastos para el mes {x:}\".format(x=mes+1))\n",
    "        med_mes, imprevistos_mes = gastos()\n",
    "        list_med.append(med_mes)\n",
    "        list_imprev.append(imprevistos_mes)\n",
    "                   \n",
    "    list_mo = []\n",
    "    list_agua = []\n",
    "    list_abono = []\n",
    "    list_mantenimiento = []           \n",
    "    for mes in range(meses):\n",
    "        print(\"\\nIngrese los costos fijos para el mes {x:}\".format(x=mes+1))\n",
    "        mo_mes, abonos_mes, agua_mes, mantenimiento_mes = costos()\n",
    "        list_mo.append(mo_mes)\n",
    "        list_agua.append(agua_mes)\n",
    "        list_abono.append(abonos_mes)\n",
    "        list_mantenimiento.append(mantenimiento_mes)\n",
    "                   \n",
    "    list_prod = []            \n",
    "    for mes in range(meses):\n",
    "        print(\"\\nIngrese los valores de producción para el mes {x:}\".format(x=mes+1))\n",
    "        prod_mes = produccion()\n",
    "        list_prod.append(prod_mes)\n",
    "            \n",
    "            \n",
    "    list_meses = [\"Mes \"+str(i+1) for i in range(meses)]\n",
    "    print(\"\\n\\n**Informe Ecónomico**\")\n",
    "    gastos_variables = 0\n",
    "    gastos_fijos = 0\n",
    "    ingresos = 0\n",
    "    for mes, med, imp, mo, agua, abon, mant, prod  in zip(list_meses, list_med, list_imprev,\\\n",
    "                                                          list_mo, list_agua, list_abono,\\\n",
    "                                                          list_mantenimiento, list_prod):\n",
    "            \n",
    "        print(\"\\nCostos totales del cultivo para el \",mes,\":\",med+imp+agua+abon+mant)\n",
    "            \n",
    "        if (med+imp) == 0:\n",
    "            print(\"   \\nEn este mes no hubo gastos\")\n",
    "            print(\"   \\nEn este mes los gastos fueron menores a $100.000\")\n",
    "            if (mo+agua+abon+mant)>(med+imp):\n",
    "                print (\"   \\nEn este mes los costos fueron mayores a los gastos\")\n",
    "        elif (med+imp) < 100000:\n",
    "            print(\"   \\nEn este mes los gastos fueron menores a $100.000\")\n",
    "            if (mo+agua+abon+mant)>(med+imp):\n",
    "                print (\"   \\nEn este mes los costos fueron mayores a los gastos\")\n",
    "        elif (mo+agua+abon+mant)>(med+imp):\n",
    "            print (\"   \\nEn este mes los costos fueron mayores a los gastos\")\n",
    "        gastos_variables = gastos_variables + med + imp\n",
    "        gastos_fijos = gastos_fijos + mo + agua + abon + mant\n",
    "        ingresos = ingresos + prod\n",
    "            \n",
    "                   \n",
    "    print(\"\\n\\nValor promedio Costos fijos: \",gastos_fijos/meses)\n",
    "    print(\"\\nValor promedio Gastos Variables: \",gastos_variables/meses)\n",
    "    utilidad =ingresos-gastos_fijos-gastos_variables\n",
    "    if utilidad > 0:\n",
    "        print(\"\\nGanancia o Utilidad: \",ingresos-gastos_fijos-gastos_variables)\n",
    "    else:\n",
    "        print(\"\\nNo hubo Ganancia\")\n"
   ]
  },
  {
   "cell_type": "markdown",
   "id": "ce937ce7",
   "metadata": {},
   "source": [
    "Por último se crea la función **consulta** que llama a las módulos creados previamente y le permite al usuario realizar la consulta que desee. La función consulta toma como párametro el conjunto de datos creado anteriormente."
   ]
  },
  {
   "cell_type": "code",
   "execution_count": 8,
   "id": "dbd90c9c",
   "metadata": {},
   "outputs": [],
   "source": [
    "def consulta(dataset):\n",
    "    while True:\n",
    "        print(\"\\n\\nIngrese número de opción para consulta:\\n1.Horario de Gestión del Cultivo\\n\"\\\n",
    "          \"2.Etapas del Cultivo\\n3.Información Contable\\n4.Salir\")\n",
    "        opcion = input()    \n",
    "        if opcion == \"1\":\n",
    "            gestion_cultivo(dataset)\n",
    "        elif opcion == \"2\":\n",
    "            consulta_etapa(dataset)\n",
    "        elif opcion == \"3\":\n",
    "            informacion_contable()\n",
    "        elif opcion == \"4\":\n",
    "            break\n",
    "        else:\n",
    "            print(\"Ingrese una opción válida\")"
   ]
  },
  {
   "cell_type": "code",
   "execution_count": 9,
   "id": "fbffc043",
   "metadata": {},
   "outputs": [
    {
     "name": "stdout",
     "output_type": "stream",
     "text": [
      "\n",
      "\n",
      "Ingrese número de opción para consulta:\n",
      "1.Horario de Gestión del Cultivo\n",
      "2.Etapas del Cultivo\n",
      "3.Información Contable\n",
      "4.Salir\n"
     ]
    },
    {
     "name": "stdin",
     "output_type": "stream",
     "text": [
      " 3\n"
     ]
    },
    {
     "name": "stdout",
     "output_type": "stream",
     "text": [
      "\n",
      "\n",
      "Hola, en este módulo puedes ingresar la información contable para tú cultivo por cada mes.\n"
     ]
    },
    {
     "name": "stdin",
     "output_type": "stream",
     "text": [
      "\n",
      "Ingresa el número de meses a diligenciar:\n",
      " 2\n"
     ]
    },
    {
     "name": "stdout",
     "output_type": "stream",
     "text": [
      "\n",
      "Ingrese los gastos para el mes 1\n"
     ]
    },
    {
     "name": "stdin",
     "output_type": "stream",
     "text": [
      "\n",
      "Ingrese los costos de los medicamentos:\n",
      " 13213163\n",
      "Ingrese los costos de los imprevistos:\n",
      " 132132\n"
     ]
    },
    {
     "name": "stdout",
     "output_type": "stream",
     "text": [
      "\n",
      "Ingrese los gastos para el mes 2\n"
     ]
    },
    {
     "name": "stdin",
     "output_type": "stream",
     "text": [
      "\n",
      "Ingrese los costos de los medicamentos:\n",
      " 1313113\n",
      "Ingrese los costos de los imprevistos:\n",
      " 12313\n"
     ]
    },
    {
     "name": "stdout",
     "output_type": "stream",
     "text": [
      "\n",
      "Ingrese los costos fijos para el mes 1\n"
     ]
    },
    {
     "name": "stdin",
     "output_type": "stream",
     "text": [
      "\n",
      "Ingrese los costos de mano de obra:\n",
      " 13213\n",
      "Ingrese los costos de los abonos:\n",
      " 1131322\n",
      "Ingrese los costos de riego:\n",
      " 13231\n",
      "Ingrese los costos de mantenimiento:\n",
      " 465463\n"
     ]
    },
    {
     "name": "stdout",
     "output_type": "stream",
     "text": [
      "\n",
      "Ingrese los costos fijos para el mes 2\n"
     ]
    },
    {
     "name": "stdin",
     "output_type": "stream",
     "text": [
      "\n",
      "Ingrese los costos de mano de obra:\n",
      " 454313\n",
      "Ingrese los costos de los abonos:\n",
      " 4331\n",
      "Ingrese los costos de riego:\n",
      " 13132\n",
      "Ingrese los costos de mantenimiento:\n",
      " 45433\n"
     ]
    },
    {
     "name": "stdout",
     "output_type": "stream",
     "text": [
      "\n",
      "Ingrese los valores de producción para el mes 1\n"
     ]
    },
    {
     "name": "stdin",
     "output_type": "stream",
     "text": [
      "\n",
      "Ingrese el valor por arroba:\n",
      " 123\n",
      "Ingrese la cantidad de kilos recolectados:\n",
      " 132131321\n"
     ]
    },
    {
     "name": "stdout",
     "output_type": "stream",
     "text": [
      "\n",
      "Ingrese los valores de producción para el mes 2\n"
     ]
    },
    {
     "name": "stdin",
     "output_type": "stream",
     "text": [
      "\n",
      "Ingrese el valor por arroba:\n",
      " 15\n",
      "Ingrese la cantidad de kilos recolectados:\n",
      " 165131\n"
     ]
    },
    {
     "name": "stdout",
     "output_type": "stream",
     "text": [
      "\n",
      "\n",
      "**Informe Ecónomico**\n",
      "\n",
      "Costos totales del cultivo para el  Mes 1 : 14955311\n",
      "\n",
      "Costos totales del cultivo para el  Mes 2 : 1388322\n",
      "\n",
      "\n",
      "Valor promedio Costos fijos:  1070219.0\n",
      "\n",
      "Valor promedio Gastos Variables:  7335360.5\n",
      "\n",
      "Ganancia o Utilidad:  1283559196.84\n",
      "\n",
      "\n",
      "Ingrese número de opción para consulta:\n",
      "1.Horario de Gestión del Cultivo\n",
      "2.Etapas del Cultivo\n",
      "3.Información Contable\n",
      "4.Salir\n"
     ]
    },
    {
     "name": "stdin",
     "output_type": "stream",
     "text": [
      " 3\n"
     ]
    },
    {
     "name": "stdout",
     "output_type": "stream",
     "text": [
      "\n",
      "\n",
      "Hola, en este módulo puedes ingresar la información contable para tú cultivo por cada mes.\n"
     ]
    },
    {
     "name": "stdin",
     "output_type": "stream",
     "text": [
      "\n",
      "Ingresa el número de meses a diligenciar:\n",
      " 2\n"
     ]
    },
    {
     "name": "stdout",
     "output_type": "stream",
     "text": [
      "\n",
      "Ingrese los gastos para el mes 1\n"
     ]
    },
    {
     "name": "stdin",
     "output_type": "stream",
     "text": [
      "\n",
      "Ingrese los costos de los medicamentos:\n",
      " 0\n",
      "Ingrese los costos de los imprevistos:\n",
      " 0\n"
     ]
    },
    {
     "name": "stdout",
     "output_type": "stream",
     "text": [
      "\n",
      "Ingrese los gastos para el mes 2\n"
     ]
    },
    {
     "name": "stdin",
     "output_type": "stream",
     "text": [
      "\n",
      "Ingrese los costos de los medicamentos:\n",
      " 13123\n",
      "Ingrese los costos de los imprevistos:\n",
      " 10000\n"
     ]
    },
    {
     "name": "stdout",
     "output_type": "stream",
     "text": [
      "\n",
      "Ingrese los costos fijos para el mes 1\n"
     ]
    },
    {
     "name": "stdin",
     "output_type": "stream",
     "text": [
      "\n",
      "Ingrese los costos de mano de obra:\n",
      " 132123\n",
      "Ingrese los costos de los abonos:\n",
      " 4446\n",
      "Ingrese los costos de riego:\n",
      " 465466\n",
      "Ingrese los costos de mantenimiento:\n",
      " 4655466\n"
     ]
    },
    {
     "name": "stdout",
     "output_type": "stream",
     "text": [
      "\n",
      "Ingrese los costos fijos para el mes 2\n"
     ]
    },
    {
     "name": "stdin",
     "output_type": "stream",
     "text": [
      "\n",
      "Ingrese los costos de mano de obra:\n",
      " 4665565\n",
      "Ingrese los costos de los abonos:\n",
      " 494646\n",
      "Ingrese los costos de riego:\n",
      " 466454\n",
      "Ingrese los costos de mantenimiento:\n",
      " 466566\n"
     ]
    },
    {
     "name": "stdout",
     "output_type": "stream",
     "text": [
      "\n",
      "Ingrese los valores de producción para el mes 1\n"
     ]
    },
    {
     "name": "stdin",
     "output_type": "stream",
     "text": [
      "\n",
      "Ingrese el valor por arroba:\n",
      " 25\n",
      "Ingrese la cantidad de kilos recolectados:\n",
      " 112322311\n"
     ]
    },
    {
     "name": "stdout",
     "output_type": "stream",
     "text": [
      "\n",
      "Ingrese los valores de producción para el mes 2\n"
     ]
    },
    {
     "name": "stdin",
     "output_type": "stream",
     "text": [
      "\n",
      "Ingrese el valor por arroba:\n",
      " 26\n",
      "Ingrese la cantidad de kilos recolectados:\n",
      " 11233\n"
     ]
    },
    {
     "name": "stdout",
     "output_type": "stream",
     "text": [
      "\n",
      "\n",
      "**Informe Ecónomico**\n",
      "\n",
      "Costos totales del cultivo para el  Mes 1 : 5125378\n",
      "   \n",
      "En este mes no hubo gastos\n",
      "   \n",
      "En este mes los gastos fueron menores a $100.000\n",
      "   \n",
      "En este mes los costos fueron mayores a los gastos\n",
      "\n",
      "Costos totales del cultivo para el  Mes 2 : 1450789\n",
      "   \n",
      "En este mes los gastos fueron menores a $100.000\n",
      "   \n",
      "En este mes los costos fueron mayores a los gastos\n",
      "\n",
      "\n",
      "Valor promedio Costos fijos:  5675366.0\n",
      "\n",
      "Valor promedio Gastos Variables:  11561.5\n",
      "\n",
      "Ganancia o Utilidad:  213294131.64\n",
      "\n",
      "\n",
      "Ingrese número de opción para consulta:\n",
      "1.Horario de Gestión del Cultivo\n",
      "2.Etapas del Cultivo\n",
      "3.Información Contable\n",
      "4.Salir\n"
     ]
    },
    {
     "name": "stdin",
     "output_type": "stream",
     "text": [
      " 4\n"
     ]
    }
   ],
   "source": [
    "consulta(dataset)"
   ]
  }
 ],
 "metadata": {
  "kernelspec": {
   "display_name": "Python 3 (Spyder)",
   "language": "python3",
   "name": "python3"
  },
  "language_info": {
   "codemirror_mode": {
    "name": "ipython",
    "version": 3
   },
   "file_extension": ".py",
   "mimetype": "text/x-python",
   "name": "python",
   "nbconvert_exporter": "python",
   "pygments_lexer": "ipython3",
   "version": "3.8.8"
  }
 },
 "nbformat": 4,
 "nbformat_minor": 5
}
